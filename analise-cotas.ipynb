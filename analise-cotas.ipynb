{
 "cells": [
  {
   "cell_type": "code",
   "execution_count": 10,
   "metadata": {},
   "outputs": [],
   "source": [
    "import pandas as pd\n",
    "import matplotlib.pyplot as plt"
   ]
  },
  {
   "cell_type": "markdown",
   "metadata": {},
   "source": [
    "# Tratamento de dados"
   ]
  },
  {
   "cell_type": "markdown",
   "metadata": {},
   "source": [
    "## Carregamento e analises iniciais "
   ]
  },
  {
   "cell_type": "code",
   "execution_count": null,
   "metadata": {},
   "outputs": [],
   "source": [
    "df = pd.read_csv('cota-parlamentar.csv')\n",
    "df.head() #visualiza os primeiros itens do data frame"
   ]
  },
  {
   "cell_type": "code",
   "execution_count": null,
   "metadata": {},
   "outputs": [],
   "source": [
    "df.info() #mostra os tipos de dados de cada coluna"
   ]
  },
  {
   "cell_type": "code",
   "execution_count": null,
   "metadata": {},
   "outputs": [],
   "source": [
    "df.describe() #mostra números ref as colunas"
   ]
  },
  {
   "cell_type": "markdown",
   "metadata": {},
   "source": [
    "## Selecionando as colunas mais relevantes para a análise"
   ]
  },
  {
   "cell_type": "code",
   "execution_count": null,
   "metadata": {},
   "outputs": [],
   "source": [
    "df_relevante = df[['txnomeparlamentar', 'sgpartido', 'sguf', 'datemissao', 'vlrdocumento', 'vlrglosa', 'vlrliquido', 'txtfornecedor', 'txtdescricao', 'numano']]\n",
    "df_relevante.head()"
   ]
  },
  {
   "cell_type": "markdown",
   "metadata": {},
   "source": [
    "## Tratar valores nulos"
   ]
  },
  {
   "cell_type": "code",
   "execution_count": null,
   "metadata": {},
   "outputs": [],
   "source": [
    "# Verificar valores nulos\n",
    "print(df_relevante.isnull().sum())"
   ]
  },
  {
   "cell_type": "code",
   "execution_count": null,
   "metadata": {},
   "outputs": [],
   "source": [
    "# Preencher valores ausentes de 'sguf' com 'Desconhecido'\n",
    "df_relevante['sguf'] = df_relevante['sguf'].fillna('Desconhecido')\n",
    "\n",
    "# 2. Remover linhas com 'datemissao' nulo\n",
    "df_relevante = df_relevante.dropna(subset=['datemissao'])\n",
    "\n",
    "# 3. Remover linhas com valores nulos em 'vlrdocumento' ou 'txtfornecedor'\n",
    "df_relevante = df_relevante.dropna(subset=['vlrdocumento', 'txtfornecedor'])\n",
    "\n",
    "# Exibir a contagem de valores nulos após o tratamento\n",
    "print(\"\\nValores nulos após tratamento:\")\n",
    "print(df_relevante.isnull().sum())"
   ]
  },
  {
   "cell_type": "markdown",
   "metadata": {},
   "source": [
    "## Remover duplicatas (se necessário)"
   ]
  },
  {
   "cell_type": "code",
   "execution_count": 30,
   "metadata": {},
   "outputs": [],
   "source": [
    "df_relevante = df_relevante.drop_duplicates()"
   ]
  },
  {
   "cell_type": "markdown",
   "metadata": {},
   "source": [
    "## Converter a coluna 'datemissao' para o tipo datetime"
   ]
  },
  {
   "cell_type": "code",
   "execution_count": 31,
   "metadata": {},
   "outputs": [],
   "source": [
    "df_relevante['datemissao'] = pd.to_datetime(df_relevante['datemissao'], errors='coerce')"
   ]
  },
  {
   "cell_type": "markdown",
   "metadata": {},
   "source": [
    "## Verificar se a coluna de valores numéricos está correta\n"
   ]
  },
  {
   "cell_type": "code",
   "execution_count": 32,
   "metadata": {},
   "outputs": [],
   "source": [
    "df_relevante[['vlrdocumento', 'vlrglosa', 'vlrliquido']] = df_relevante[['vlrdocumento', 'vlrglosa', 'vlrliquido']].apply(pd.to_numeric, errors='coerce')"
   ]
  },
  {
   "cell_type": "markdown",
   "metadata": {},
   "source": [
    "# Analise de dados"
   ]
  },
  {
   "cell_type": "markdown",
   "metadata": {},
   "source": [
    "### 1. Gasto total por parlamentar.\n",
    "\n",
    "o código para calcular o total gasto por cada parlamentar, agrupando pelo nome e somando os valores da coluna vlrliquido"
   ]
  },
  {
   "cell_type": "code",
   "execution_count": null,
   "metadata": {},
   "outputs": [],
   "source": [
    "# Gasto total por parlamentar\n",
    "gasto_por_parlamentar = df_relevante.groupby('txnomeparlamentar')['vlrliquido'].sum().reset_index()\n",
    "\n",
    "# Ordenar os parlamentares pelos maiores gastos\n",
    "gasto_por_parlamentar = gasto_por_parlamentar.sort_values(by='vlrliquido', ascending=False)\n",
    "\n",
    "# Exibir os 10 parlamentares que mais gastaram\n",
    "print(gasto_por_parlamentar.head(20))\n"
   ]
  },
  {
   "cell_type": "code",
   "execution_count": null,
   "metadata": {},
   "outputs": [],
   "source": [
    "\n",
    "\n",
    "# Selecionar os 10 parlamentares que mais gastaram\n",
    "top_20_parlamentares = gasto_por_parlamentar.head(20)\n",
    "\n",
    "# Criar gráfico de barras\n",
    "plt.figure(figsize=(10,6))\n",
    "plt.barh(top_20_parlamentares['txnomeparlamentar'], top_20_parlamentares['vlrliquido'], color='skyblue')\n",
    "plt.xlabel('Gasto Total (R$)')\n",
    "plt.ylabel('Parlamentar')\n",
    "plt.title('Top 20 Parlamentares por Gasto Total')\n",
    "plt.gca().invert_yaxis()  # Inverter eixo para mostrar o maior no topo\n",
    "plt.show()\n"
   ]
  },
  {
   "cell_type": "markdown",
   "metadata": {},
   "source": [
    "### 2. evolução dos gastos ao longo do tempo."
   ]
  },
  {
   "cell_type": "code",
   "execution_count": null,
   "metadata": {},
   "outputs": [],
   "source": [
    "#Código para agrupar os dados por mês e ano:\n",
    "\n",
    "# Garantir que a coluna 'datemissao' está no formato datetime\n",
    "df_relevante['datemissao'] = pd.to_datetime(df_relevante['datemissao'], errors='coerce')\n",
    "\n",
    "# Criar uma nova coluna 'ano_mes' para agrupar por ano e mês\n",
    "df_relevante['ano_mes'] = df_relevante['datemissao'].dt.to_period('M')\n",
    "\n",
    "# Agrupar o gasto total por mês e ano\n",
    "gastos_por_mes = df_relevante.groupby('ano_mes')['vlrliquido'].sum().reset_index()\n",
    "\n",
    "# Exibir os primeiros resultados\n",
    "print(gastos_por_mes.head())\n"
   ]
  },
  {
   "cell_type": "markdown",
   "metadata": {},
   "source": [
    "Remover anos com poucos gastos: Vamos filtrar os anos com poucos gastos para melhorar a visualização.\n",
    "\n",
    "Agrupar os dados por ano: Isso simplifica a visualização e destaca a tendência anual."
   ]
  },
  {
   "cell_type": "code",
   "execution_count": null,
   "metadata": {},
   "outputs": [],
   "source": [
    "# Garantir que a coluna 'datemissao' está no formato datetime\n",
    "df_relevante['datemissao'] = pd.to_datetime(df_relevante['datemissao'], errors='coerce')\n",
    "\n",
    "# Criar uma nova coluna 'ano' para agrupar por ano\n",
    "df_relevante['ano'] = df_relevante['datemissao'].dt.year\n",
    "\n",
    "# Filtrar os dados apenas para o período entre 2009 e 2019\n",
    "df_periodo = df_relevante[(df_relevante['ano'] >= 2009) & (df_relevante['ano'] <= 2019)]\n",
    "\n",
    "# Agrupar o gasto total por ano\n",
    "gastos_por_ano = df_periodo.groupby('ano')['vlrliquido'].sum().reset_index()\n",
    "\n",
    "# Criar o gráfico de linha\n",
    "plt.figure(figsize=(10,6))\n",
    "plt.plot(gastos_por_ano['ano'], gastos_por_ano['vlrliquido'], marker='o', linestyle='-', color='b', label='Total de Gastos')\n",
    "\n",
    "# Ajustar o eixo x para marcar de 3 em 3 anos\n",
    "plt.xticks(ticks=range(2009, 2020, 3))\n",
    "\n",
    "# Rótulos e título\n",
    "plt.xlabel('Ano')\n",
    "plt.ylabel('Gasto Total (R$)')\n",
    "plt.title('Evolução dos Gastos Parlamentares de 2009 a 2019')\n",
    "plt.grid(True)\n",
    "\n",
    "# Exibir o gráfico\n",
    "plt.tight_layout()\n",
    "plt.show()\n"
   ]
  },
  {
   "cell_type": "markdown",
   "metadata": {},
   "source": [
    "### 3. Gastos por partido (20 maiores partidos + \"Outros\")"
   ]
  },
  {
   "cell_type": "code",
   "execution_count": null,
   "metadata": {},
   "outputs": [],
   "source": [
    "# Agrupar gastos por partido\n",
    "gastos_por_partido = df_periodo.groupby('sgpartido')['vlrliquido'].sum().reset_index()\n",
    "\n",
    "# Ordenar do maior para o menor gasto\n",
    "gastos_por_partido = gastos_por_partido.sort_values(by='vlrliquido', ascending=False)\n",
    "\n",
    "# Separar os 20 maiores partidos\n",
    "top_20_partidos = gastos_por_partido.head(20)\n",
    "\n",
    "# Calcular a soma dos \"Outros\" partidos (aqueles fora dos 20 maiores)\n",
    "outros_gastos = pd.DataFrame([['Outros', gastos_por_partido.iloc[20:]['vlrliquido'].sum()]], columns=['sgpartido', 'vlrliquido'])\n",
    "\n",
    "# Concatenar os 20 maiores partidos com a categoria \"Outros\"\n",
    "gastos_top_20 = pd.concat([top_20_partidos, outros_gastos])\n",
    "\n",
    "# Criar o gráfico de barras empilhadas\n",
    "plt.figure(figsize=(12,7))\n",
    "plt.bar(gastos_top_20['sgpartido'], gastos_top_20['vlrliquido'], color='skyblue')\n",
    "\n",
    "# Rótulos e título\n",
    "plt.xlabel('Partido')\n",
    "plt.ylabel('Gasto Total (R$)')\n",
    "plt.title('Gastos Totais por Partido (20 Maiores e Outros) de 2009 a 2019')\n",
    "plt.xticks(rotation=45)\n",
    "plt.grid(True)\n",
    "\n",
    "# Exibir o gráfico\n",
    "plt.tight_layout()\n",
    "plt.show()\n"
   ]
  },
  {
   "cell_type": "markdown",
   "metadata": {},
   "source": [
    "### 4. Principais categorias de gastos"
   ]
  },
  {
   "cell_type": "code",
   "execution_count": null,
   "metadata": {},
   "outputs": [],
   "source": [
    "# Verificar se o nome correto da coluna de descrição é 'txtdescricao' ou outro\n",
    "# Caso seja diferente, use o nome correto listado ao verificar as colunas\n",
    "gastos_por_categoria = df_periodo.groupby('txtdescricao')['vlrliquido'].sum().reset_index()\n",
    "\n",
    "# Ordenar do maior para o menor gasto e pegar as 10 principais categorias\n",
    "gastos_top_categorias = gastos_por_categoria.sort_values(by='vlrliquido', ascending=False).head(10)\n",
    "gastos_top_categorias = gastos_top_categorias.sort_values(by='vlrliquido', ascending=True)\n",
    "\n",
    "# Criar o gráfico de barras horizontais\n",
    "plt.figure(figsize=(10,6))\n",
    "plt.barh(gastos_top_categorias['txtdescricao'], gastos_top_categorias['vlrliquido'], color='lightcoral')\n",
    "\n",
    "# Rótulos e título\n",
    "plt.xlabel('Gasto Total (R$)')\n",
    "plt.ylabel('Categoria de Gasto')\n",
    "plt.title('Principais Categorias de Gastos Parlamentares de 2009 a 2019')\n",
    "plt.grid(True)\n",
    "\n",
    "# Exibir o gráfico\n",
    "plt.tight_layout()\n",
    "plt.show()\n"
   ]
  },
  {
   "cell_type": "markdown",
   "metadata": {},
   "source": [
    "### 5. Média por parlamentar"
   ]
  },
  {
   "cell_type": "code",
   "execution_count": null,
   "metadata": {},
   "outputs": [],
   "source": [
    "# Agrupar os dados por parlamentar e somar os gastos totais\n",
    "gastos_por_parlamentar = df_periodo.groupby('txnomeparlamentar')['vlrliquido'].sum().reset_index()\n",
    "\n",
    "# Contar o número de anos únicos de atuação de cada parlamentar\n",
    "anos_por_parlamentar = df_periodo.groupby('txnomeparlamentar')['numano'].nunique().reset_index()\n",
    "\n",
    "# Renomear a coluna para facilitar o merge\n",
    "anos_por_parlamentar.rename(columns={'numano': 'anos_unicos'}, inplace=True)\n",
    "\n",
    "# Mesclar o total de gastos com o número de anos únicos\n",
    "gastos_e_anos = pd.merge(gastos_por_parlamentar, anos_por_parlamentar, on='txnomeparlamentar')\n",
    "\n",
    "# Calcular a média de gastos por parlamentar (gasto total / anos únicos)\n",
    "gastos_e_anos['media_gastos_por_ano'] = gastos_e_anos['vlrliquido'] / gastos_e_anos['anos_unicos']\n",
    "\n",
    "# Ordenar pelo gasto médio\n",
    "gastos_e_anos = gastos_e_anos.sort_values(by='media_gastos_por_ano', ascending=False).head(10)\n",
    "\n",
    "# Exibir as primeiras linhas do DataFrame\n",
    "print(gastos_e_anos.head())\n"
   ]
  },
  {
   "cell_type": "code",
   "execution_count": null,
   "metadata": {},
   "outputs": [],
   "source": [
    "\n",
    "# Criar gráfico de barras\n",
    "plt.figure(figsize=(10,6))\n",
    "plt.barh(gastos_e_anos['txnomeparlamentar'], gastos_e_anos['media_gastos_por_ano'], color='skyblue')\n",
    "plt.xlabel('Média de Gastos (R$)')\n",
    "plt.ylabel('Parlamentar')\n",
    "plt.title('Top 10 Parlamentares por média de Gastos por ano')\n",
    "plt.gca().invert_yaxis()  # Inverter eixo para mostrar o maior no topo\n",
    "plt.show()"
   ]
  },
  {
   "cell_type": "markdown",
   "metadata": {},
   "source": [
    "### 6. Gastos de um parlamentar"
   ]
  },
  {
   "cell_type": "markdown",
   "metadata": {},
   "source": [
    "Nesta parte você pode olhar de forma mais focada os dados e escolher um parlamentar e o ano para ver os gastos por categoria "
   ]
  },
  {
   "cell_type": "code",
   "execution_count": null,
   "metadata": {},
   "outputs": [],
   "source": [
    "# Função para plotar os gastos de um parlamentar por categoria em um ano específico\n",
    "def grafico_gastos_parlamentar_por_categoria(df):\n",
    "    # Solicitar o nome do parlamentar ao usuário\n",
    "    nome_parlamentar = input(\"Digite o nome do parlamentar: \")\n",
    "\n",
    "    # Solicitar o ano de interesse ao usuário\n",
    "    ano = input(\"Digite o ano de interesse (Ex: 2019): \")\n",
    "\n",
    "    # Filtrar os dados para o parlamentar e o ano escolhidos\n",
    "    df_filtrado = df[(df['txnomeparlamentar'].str.contains(nome_parlamentar, case=False, na=False)) &\n",
    "                     (df['numano'] == int(ano))]\n",
    "\n",
    "    # Verificar se há dados para o parlamentar e o ano escolhidos\n",
    "    if df_filtrado.empty:\n",
    "        print(f\"Nenhum dado encontrado para o parlamentar '{nome_parlamentar}' no ano {ano}.\")\n",
    "        return\n",
    "\n",
    "    # Agrupar os gastos por categoria de despesa\n",
    "    gastos_por_categoria = df_filtrado.groupby('txtdescricao')['vlrliquido'].sum().reset_index()\n",
    "\n",
    "    # Ordenar do maior para o menor gasto\n",
    "    gastos_por_categoria = gastos_por_categoria.sort_values(by='vlrliquido', ascending=False)\n",
    "\n",
    "    # Plotar o gráfico de barras\n",
    "    plt.figure(figsize=(12,6))\n",
    "    plt.barh(gastos_por_categoria['txtdescricao'], gastos_por_categoria['vlrliquido'], color='skyblue')\n",
    "\n",
    "    # Rótulos e título\n",
    "    plt.xlabel('Gastos (R$)')\n",
    "    plt.ylabel('Categoria de Despesa')\n",
    "    plt.title(f'Gastos do parlamentar {nome_parlamentar} por categoria no ano {ano}')\n",
    "    plt.grid(True)\n",
    "\n",
    "    # Exibir o gráfico\n",
    "    plt.tight_layout()\n",
    "    plt.show()\n",
    "\n",
    "# Chamar a função passando o DataFrame filtrado por período\n",
    "grafico_gastos_parlamentar_por_categoria(df_periodo)\n"
   ]
  }
 ],
 "metadata": {
  "kernelspec": {
   "display_name": "Python 3",
   "language": "python",
   "name": "python3"
  },
  "language_info": {
   "codemirror_mode": {
    "name": "ipython",
    "version": 3
   },
   "file_extension": ".py",
   "mimetype": "text/x-python",
   "name": "python",
   "nbconvert_exporter": "python",
   "pygments_lexer": "ipython3",
   "version": "3.12.7"
  }
 },
 "nbformat": 4,
 "nbformat_minor": 2
}
